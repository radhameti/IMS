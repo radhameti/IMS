{
 "cells": [
  {
   "cell_type": "code",
   "execution_count": null,
   "id": "7a4b48b1",
   "metadata": {},
   "outputs": [],
   "source": [
    "import json\n",
    "fd = open(\"record.json\",'r+')\n",
    "r = fd.read()\n",
    "fd.close()\n",
    "record = json.loads(r)"
   ]
  },
  {
   "cell_type": "code",
   "execution_count": null,
   "id": "3c021289",
   "metadata": {},
   "outputs": [],
   "source": [
    "N=[]\n",
    "input1= int(input(\" how many items you want to insert:\"))\n",
    "idd = str(input(\"enter the product id:\"))\n",
    "name=str(input(\"enter the product name:\"))\n",
    "price=int(input('enter the product price:'))\n",
    "quantity=str(input(\"enter the quantity of products (dont mention its units):\"))\n",
    "compname=str(input(\"enter the company name:\"))\n",
    "quality=str(input(\"enter the quality of product (good,better,best):\"))\n",
    "record[idd]={\"Name\":name,\"Price\":price,\"Quantity\":quantity,\"Company\":compname,\"Quality\":quality}\n",
    "js = json.dumps(record)\n",
    "fd = open(\"record.json\",'w')\n",
    "fd.write(js)\n",
    "fd.close()\n",
    "keylist=list(record.keys())\n",
    "for i in range(1,input1): \n",
    "    idd = str(input(\"enter the product id:\"))\n",
    "    if idd in keylist:\n",
    "        print(\" You are adding already existed product\")\n",
    "        name=str(input(\"enter the product name:\"))\n",
    "        price=int(input('enter the product price:'))\n",
    "        quant=str(input(\"enter the quantity of products (dont mention its units):\"))\n",
    "        add=int(record[idd][Quantity])\n",
    "        quantity=int(quant)+add\n",
    "        compname=str(input(\"enter the company name:\"))\n",
    "        quality=str(input(\"enter the quality of product (good,better,best):\"))\n",
    "        record[idd]={\"Name\":name,\"Price\":price,\"Quantity\":quantity,\"Company\":compname,\"Quality\":quality}\n",
    "        js = json.dumps(record)\n",
    "        fd = open(\"record.json\",'w')\n",
    "        fd.write(js)\n",
    "        fd.close()\n",
    "        keylist=list(record.keys())\n",
    "        N.append(record[idd][\"Name\"])\n",
    "    else:\n",
    "        name=str(input(\"enter the product name:\"))\n",
    "        price=int(input('enter the product price:'))\n",
    "        quantity=str(input(\"enter the quantity of products (dont mention its units):\"))\n",
    "        compname=str(input(\"enter the company name:\"))\n",
    "        quality=str(input(\"enter the quality of product (good,better,best):\"))\n",
    "        record[idd]={\"Name\":name,\"Price\":price,\"Quantity\":quantity,\"Company\":compname,\"Quality\":quality}\n",
    "        js = json.dumps(record)\n",
    "        fd = open(\"record.json\",'w')\n",
    "        fd.write(js)\n",
    "        fd.close()\n",
    "        keylist=list(record.keys())\n",
    "        N.append(record[idd][\"Name\"])\n",
    "    \n"
   ]
  },
  {
   "cell_type": "markdown",
   "id": "ae537ff6",
   "metadata": {},
   "source": [
    "fd = open(\"records.json\",'r')\n",
    "r = fd.read()\n",
    "print(r)\n",
    "fd.close()"
   ]
  },
  {
   "cell_type": "code",
   "execution_count": null,
   "id": "487abc88",
   "metadata": {},
   "outputs": [],
   "source": [
    "keylists=keylist[9:]\n",
    "keylists\n"
   ]
  },
  {
   "cell_type": "markdown",
   "id": "95348a13",
   "metadata": {},
   "source": [
    "# Sales "
   ]
  },
  {
   "cell_type": "code",
   "execution_count": null,
   "id": "38505851",
   "metadata": {},
   "outputs": [],
   "source": [
    "print(\"Choose the items product id which you want to purchase \")\n",
    "s=True\n",
    "for i in keylists:\n",
    "    print(i,':',record[i][\"Name\"])\n",
    "    print('\\n')\n",
    "a=int(input(\"enter how many item you are purchasing:\"))\n",
    "x=0\n",
    "for i in range(0,a):\n",
    "    b=input(\"enter the product id of the items:\")\n",
    "    c=input(\"enter the quantity:\")\n",
    "    x=int(record[b][\"Price\"])*int(c)+x\n",
    "    add=int(record[i][\"Quantity\"])\n",
    "    quantity=int(quant)-int(c)\n",
    "    record[i]=quantity\n",
    "    js = json.dumps(record)\n",
    "    fd = open(\"record.json\",'w')\n",
    "    fd.write(js)\n",
    "    fd.close()\n",
    "    fd = open(\"Sales.json\",'a')\n",
    "    fd.write(js)\n",
    "    fd.close()\n",
    "print(record)\n",
    "fd = open(\"sales.json\",'r')\n",
    "r = fd.read()\n",
    "print(r)\n",
    "fd.close()    \n",
    "print(\" total bill of your purchase is:\",c)\n"
   ]
  }
 ],
 "metadata": {
  "kernelspec": {
   "display_name": "Python 3 (ipykernel)",
   "language": "python",
   "name": "python3"
  },
  "language_info": {
   "codemirror_mode": {
    "name": "ipython",
    "version": 3
   },
   "file_extension": ".py",
   "mimetype": "text/x-python",
   "name": "python",
   "nbconvert_exporter": "python",
   "pygments_lexer": "ipython3",
   "version": "3.9.1"
  }
 },
 "nbformat": 4,
 "nbformat_minor": 5
}
